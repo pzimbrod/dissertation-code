{
 "cells": [
  {
   "cell_type": "code",
   "execution_count": 1,
   "metadata": {},
   "outputs": [],
   "source": [
    "import numpy as np\n",
    "\n",
    "a = 1.44e-3\n",
    "\n",
    "model_parameters = {\n",
    "    \"a\":            a,\n",
    "    \"coords\":       ((-2*a,-2*a),(2*a,2*a)),\n",
    "    \"grid_size\":    (128,128),\n",
    "    \"temp_top\":     291.152, # K\n",
    "    \"temp_bottom\":  290.000, # K\n",
    "}\n",
    "\n",
    "\n",
    "markers = {\n",
    "    \"leftright\":    lambda x: np.isclose(x[0], -2*a) | np.isclose(x[0],2*a),\n",
    "    \"top\":          lambda x: np.isclose(x[1], 2*a),\n",
    "    \"bottom\":       lambda x: np.isclose(x[1], -2*a),\n",
    "}\n",
    "\n",
    "material_model = {\n",
    "    \"alpha1\": {\n",
    "        \"rho\":      250.0,\n",
    "        \"cp\":       5e-5,\n",
    "        \"mu\":       0.012,\n",
    "        \"kappa\":    1.2e-6,\n",
    "    },\n",
    "    \"alpha2\": {\n",
    "        \"rho\":      500.0,\n",
    "        \"cp\":       1e-4,\n",
    "        \"mu\":       0.024,\n",
    "        \"kappa\":    2.4e-6\n",
    "    },\n",
    "}\n"
   ]
  },
  {
   "cell_type": "code",
   "execution_count": 2,
   "metadata": {},
   "outputs": [],
   "source": [
    "fe_config = {\n",
    "\n",
    "    \"alpha1\": {\n",
    "        \"element\": \"DG\", \n",
    "        \"degree\": 1, \n",
    "        \"type\": \"scalar\",\n",
    "        \"time_scheme\":  \"explicit euler\",\n",
    "    },\n",
    "\n",
    "    \"alpha2\": {\n",
    "        \"element\": \"DG\", \n",
    "        \"degree\": 1, \n",
    "        \"type\": \"scalar\",\n",
    "        \"time_scheme\":  \"explicit euler\",\n",
    "        },\n",
    "\n",
    "    \"p\": {\n",
    "        \"element\": \"DG\", \n",
    "        \"degree\": 1, \n",
    "        \"type\": \"scalar\",\n",
    "        \"time_scheme\":  \"explicit euler\",\n",
    "        },\n",
    "\n",
    "    \"u\": {\n",
    "        \"element\": \"CG\", \n",
    "        \"degree\": 1, \n",
    "        \"type\": \"vector\",\n",
    "        \"time_scheme\":  \"explicit euler\",\n",
    "        },\n",
    "\n",
    "    \"T\": {\n",
    "        \"element\": \"CG\", \n",
    "        \"degree\": 1, \n",
    "        \"type\": \"scalar\",\n",
    "        \"time_scheme\":  \"explicit euler\",\n",
    "        },\n",
    "}"
   ]
  },
  {
   "cell_type": "markdown",
   "metadata": {},
   "source": [
    "According to [this discussion](https://fenicsproject.discourse.group/t/cannot-find-dofs-for-discontinuous-element/10900/3), discontinuous spaces do not have DoFs that live on a facet. Thus, `locate_dofs_topological` does not find any DoFs there. Must rely on `locate_dofs_geometrical` for now."
   ]
  },
  {
   "cell_type": "code",
   "execution_count": 3,
   "metadata": {},
   "outputs": [
    {
     "name": "stdout",
     "output_type": "stream",
     "text": [
      "Model has Degrees of Freedom (DoFs):\n",
      "alpha1:    98,304\n",
      "alpha2:    98,304\n",
      "p:    98,304\n",
      "u:    33,282\n",
      "T:    16,641\n",
      "Total:    344,835\n"
     ]
    }
   ],
   "source": [
    "from MultiphysicsModel.RisingBubbleModel import RisingBubbleModel\n",
    "\n",
    "model = RisingBubbleModel(\n",
    "    model_parameters=model_parameters,\n",
    "    material_model=material_model,\n",
    "    fe_config=fe_config,\n",
    "    bc_markers=markers,\n",
    "    timestep=2.5e-5,\n",
    "    time_domain=(0.0,0.12),\n",
    "    create_mixed=True\n",
    ")"
   ]
  },
  {
   "cell_type": "code",
   "execution_count": 4,
   "metadata": {},
   "outputs": [],
   "source": [
    "model.setup()"
   ]
  },
  {
   "cell_type": "code",
   "execution_count": 5,
   "metadata": {},
   "outputs": [
    {
     "name": "stdout",
     "output_type": "stream",
     "text": [
      "Time: 0.0\n",
      "Nonlinear solve converged in 2 iterations.\n",
      "Time: 2.5e-05\n",
      "Nonlinear solve converged in 2 iterations.\n",
      "Time: 5e-05\n",
      "Nonlinear solve converged in 2 iterations.\n",
      "Time: 7.500000000000001e-05\n",
      "Nonlinear solve converged in 2 iterations.\n",
      "Time: 0.0001\n",
      "Nonlinear solve converged in 2 iterations.\n",
      "Time: 0.000125\n",
      "Nonlinear solve converged in 2 iterations.\n",
      "Time: 0.00015000000000000001\n",
      "Nonlinear solve converged in 2 iterations.\n",
      "Time: 0.00017500000000000003\n",
      "Nonlinear solve converged in 2 iterations.\n",
      "Time: 0.00020000000000000004\n",
      "Nonlinear solve converged in 2 iterations.\n",
      "Time: 0.00022500000000000005\n",
      "Nonlinear solve converged in 2 iterations.\n",
      "Time: 0.00025000000000000006\n",
      "Nonlinear solve converged in 2 iterations.\n",
      "Time: 0.00027500000000000007\n"
     ]
    },
    {
     "ename": "KeyboardInterrupt",
     "evalue": "",
     "output_type": "error",
     "traceback": [
      "\u001b[0;31m---------------------------------------------------------------------------\u001b[0m",
      "\u001b[0;31mKeyboardInterrupt\u001b[0m                         Traceback (most recent call last)",
      "Cell \u001b[0;32mIn[5], line 1\u001b[0m\n\u001b[0;32m----> 1\u001b[0m \u001b[43mmodel\u001b[49m\u001b[38;5;241;43m.\u001b[39;49m\u001b[43msolve\u001b[49m\u001b[43m(\u001b[49m\u001b[43m)\u001b[49m\n",
      "File \u001b[0;32m~/Documents/Dissertation/Code/powder-bed-fusion/MultiphysicsModel/RisingBubbleModel.py:87\u001b[0m, in \u001b[0;36mRisingBubbleModel.solve\u001b[0;34m(self)\u001b[0m\n\u001b[1;32m     85\u001b[0m \u001b[38;5;28;01mwhile\u001b[39;00m \u001b[38;5;28mself\u001b[39m\u001b[38;5;241m.\u001b[39mcurrent_time \u001b[38;5;241m<\u001b[39m end_time:\n\u001b[1;32m     86\u001b[0m     \u001b[38;5;28mprint\u001b[39m(\u001b[38;5;124mf\u001b[39m\u001b[38;5;124m\"\u001b[39m\u001b[38;5;124mTime: \u001b[39m\u001b[38;5;132;01m{\u001b[39;00m\u001b[38;5;28mself\u001b[39m\u001b[38;5;241m.\u001b[39mcurrent_time\u001b[38;5;132;01m}\u001b[39;00m\u001b[38;5;124m\"\u001b[39m)\n\u001b[0;32m---> 87\u001b[0m     \u001b[38;5;28;43mself\u001b[39;49m\u001b[38;5;241;43m.\u001b[39;49m\u001b[43m_solve_timestep\u001b[49m\u001b[43m(\u001b[49m\u001b[43m)\u001b[49m\n\u001b[1;32m     89\u001b[0m \u001b[38;5;28mprint\u001b[39m(\u001b[38;5;124m\"\u001b[39m\u001b[38;5;124mSolve finished!\u001b[39m\u001b[38;5;124m\"\u001b[39m)\n\u001b[1;32m     91\u001b[0m \u001b[38;5;28;01mreturn\u001b[39;00m\n",
      "File \u001b[0;32m~/Documents/Dissertation/Code/powder-bed-fusion/MultiphysicsModel/RisingBubbleModel.py:69\u001b[0m, in \u001b[0;36mRisingBubbleModel._solve_timestep\u001b[0;34m(self)\u001b[0m\n\u001b[1;32m     66\u001b[0m \u001b[38;5;28;01melse\u001b[39;00m:\n\u001b[1;32m     67\u001b[0m     u \u001b[38;5;241m=\u001b[39m \u001b[38;5;28mself\u001b[39m\u001b[38;5;241m.\u001b[39mfe_data\u001b[38;5;241m.\u001b[39msolution[\u001b[38;5;124m\"\u001b[39m\u001b[38;5;124malpha_solid\u001b[39m\u001b[38;5;124m\"\u001b[39m]\u001b[38;5;241m.\u001b[39mcurrent\n\u001b[0;32m---> 69\u001b[0m its, is_converged \u001b[38;5;241m=\u001b[39m \u001b[43msolver\u001b[49m\u001b[38;5;241;43m.\u001b[39;49m\u001b[43msolve\u001b[49m\u001b[43m(\u001b[49m\u001b[43mu\u001b[49m\u001b[38;5;241;43m=\u001b[39;49m\u001b[43mu\u001b[49m\u001b[43m)\u001b[49m\n\u001b[1;32m     70\u001b[0m \u001b[38;5;28;01massert\u001b[39;00m(is_converged)\n\u001b[1;32m     71\u001b[0m \u001b[38;5;28mprint\u001b[39m(\u001b[38;5;124mf\u001b[39m\u001b[38;5;124m\"\u001b[39m\u001b[38;5;124mNonlinear solve converged in \u001b[39m\u001b[38;5;132;01m{\u001b[39;00mits\u001b[38;5;132;01m}\u001b[39;00m\u001b[38;5;124m iterations.\u001b[39m\u001b[38;5;124m\"\u001b[39m)\n",
      "File \u001b[0;32m~/miniforge3/envs/fenicsx-env/lib/python3.12/site-packages/dolfinx/nls/petsc.py:47\u001b[0m, in \u001b[0;36mNewtonSolver.solve\u001b[0;34m(self, u)\u001b[0m\n\u001b[1;32m     44\u001b[0m \u001b[38;5;28;01mdef\u001b[39;00m \u001b[38;5;21msolve\u001b[39m(\u001b[38;5;28mself\u001b[39m, u: fem\u001b[38;5;241m.\u001b[39mFunction):\n\u001b[1;32m     45\u001b[0m \u001b[38;5;250m    \u001b[39m\u001b[38;5;124;03m\"\"\"Solve non-linear problem into function u. Returns the number\u001b[39;00m\n\u001b[1;32m     46\u001b[0m \u001b[38;5;124;03m    of iterations and if the solver converged.\"\"\"\u001b[39;00m\n\u001b[0;32m---> 47\u001b[0m     n, converged \u001b[38;5;241m=\u001b[39m \u001b[38;5;28;43msuper\u001b[39;49m\u001b[43m(\u001b[49m\u001b[43m)\u001b[49m\u001b[38;5;241;43m.\u001b[39;49m\u001b[43msolve\u001b[49m\u001b[43m(\u001b[49m\u001b[43mu\u001b[49m\u001b[38;5;241;43m.\u001b[39;49m\u001b[43mx\u001b[49m\u001b[38;5;241;43m.\u001b[39;49m\u001b[43mpetsc_vec\u001b[49m\u001b[43m)\u001b[49m\n\u001b[1;32m     48\u001b[0m     u\u001b[38;5;241m.\u001b[39mx\u001b[38;5;241m.\u001b[39mscatter_forward()\n\u001b[1;32m     49\u001b[0m     \u001b[38;5;28;01mreturn\u001b[39;00m n, converged\n",
      "File \u001b[0;32m~/miniforge3/envs/fenicsx-env/lib/python3.12/site-packages/dolfinx/fem/petsc.py:943\u001b[0m, in \u001b[0;36mNonlinearProblem.F\u001b[0;34m(self, x, b)\u001b[0m\n\u001b[1;32m    941\u001b[0m \u001b[38;5;28;01mwith\u001b[39;00m b\u001b[38;5;241m.\u001b[39mlocalForm() \u001b[38;5;28;01mas\u001b[39;00m b_local:\n\u001b[1;32m    942\u001b[0m     b_local\u001b[38;5;241m.\u001b[39mset(\u001b[38;5;241m0.0\u001b[39m)\n\u001b[0;32m--> 943\u001b[0m \u001b[43massemble_vector\u001b[49m\u001b[43m(\u001b[49m\u001b[43mb\u001b[49m\u001b[43m,\u001b[49m\u001b[43m \u001b[49m\u001b[38;5;28;43mself\u001b[39;49m\u001b[38;5;241;43m.\u001b[39;49m\u001b[43m_L\u001b[49m\u001b[43m)\u001b[49m\n\u001b[1;32m    945\u001b[0m \u001b[38;5;66;03m# Apply boundary condition\u001b[39;00m\n\u001b[1;32m    946\u001b[0m apply_lifting(b, [\u001b[38;5;28mself\u001b[39m\u001b[38;5;241m.\u001b[39m_a], bcs\u001b[38;5;241m=\u001b[39m[\u001b[38;5;28mself\u001b[39m\u001b[38;5;241m.\u001b[39mbcs], x0\u001b[38;5;241m=\u001b[39m[x], scale\u001b[38;5;241m=\u001b[39m\u001b[38;5;241m-\u001b[39m\u001b[38;5;241m1.0\u001b[39m)\n",
      "File \u001b[0;32m~/miniforge3/envs/fenicsx-env/lib/python3.12/functools.py:909\u001b[0m, in \u001b[0;36msingledispatch.<locals>.wrapper\u001b[0;34m(*args, **kw)\u001b[0m\n\u001b[1;32m    905\u001b[0m \u001b[38;5;28;01mif\u001b[39;00m \u001b[38;5;129;01mnot\u001b[39;00m args:\n\u001b[1;32m    906\u001b[0m     \u001b[38;5;28;01mraise\u001b[39;00m \u001b[38;5;167;01mTypeError\u001b[39;00m(\u001b[38;5;124mf\u001b[39m\u001b[38;5;124m'\u001b[39m\u001b[38;5;132;01m{\u001b[39;00mfuncname\u001b[38;5;132;01m}\u001b[39;00m\u001b[38;5;124m requires at least \u001b[39m\u001b[38;5;124m'\u001b[39m\n\u001b[1;32m    907\u001b[0m                     \u001b[38;5;124m'\u001b[39m\u001b[38;5;124m1 positional argument\u001b[39m\u001b[38;5;124m'\u001b[39m)\n\u001b[0;32m--> 909\u001b[0m \u001b[38;5;28;01mreturn\u001b[39;00m \u001b[43mdispatch\u001b[49m\u001b[43m(\u001b[49m\u001b[43margs\u001b[49m\u001b[43m[\u001b[49m\u001b[38;5;241;43m0\u001b[39;49m\u001b[43m]\u001b[49m\u001b[38;5;241;43m.\u001b[39;49m\u001b[38;5;18;43m__class__\u001b[39;49m\u001b[43m)\u001b[49m\u001b[43m(\u001b[49m\u001b[38;5;241;43m*\u001b[39;49m\u001b[43margs\u001b[49m\u001b[43m,\u001b[49m\u001b[43m \u001b[49m\u001b[38;5;241;43m*\u001b[39;49m\u001b[38;5;241;43m*\u001b[39;49m\u001b[43mkw\u001b[49m\u001b[43m)\u001b[49m\n",
      "File \u001b[0;32m~/miniforge3/envs/fenicsx-env/lib/python3.12/site-packages/dolfinx/fem/petsc.py:242\u001b[0m, in \u001b[0;36m_assemble_vector_vec\u001b[0;34m(b, L, constants, coeffs)\u001b[0m\n\u001b[1;32m    226\u001b[0m \u001b[38;5;250m\u001b[39m\u001b[38;5;124;03m\"\"\"Assemble linear form into an existing PETSc vector.\u001b[39;00m\n\u001b[1;32m    227\u001b[0m \n\u001b[1;32m    228\u001b[0m \u001b[38;5;124;03mNote:\u001b[39;00m\n\u001b[0;32m   (...)\u001b[0m\n\u001b[1;32m    239\u001b[0m \n\u001b[1;32m    240\u001b[0m \u001b[38;5;124;03m\"\"\"\u001b[39;00m\n\u001b[1;32m    241\u001b[0m \u001b[38;5;28;01mwith\u001b[39;00m b\u001b[38;5;241m.\u001b[39mlocalForm() \u001b[38;5;28;01mas\u001b[39;00m b_local:\n\u001b[0;32m--> 242\u001b[0m     \u001b[43m_assemble\u001b[49m\u001b[38;5;241;43m.\u001b[39;49m\u001b[43m_assemble_vector_array\u001b[49m\u001b[43m(\u001b[49m\u001b[43mb_local\u001b[49m\u001b[38;5;241;43m.\u001b[39;49m\u001b[43marray_w\u001b[49m\u001b[43m,\u001b[49m\u001b[43m \u001b[49m\u001b[43mL\u001b[49m\u001b[43m,\u001b[49m\u001b[43m \u001b[49m\u001b[43mconstants\u001b[49m\u001b[43m,\u001b[49m\u001b[43m \u001b[49m\u001b[43mcoeffs\u001b[49m\u001b[43m)\u001b[49m\n\u001b[1;32m    243\u001b[0m \u001b[38;5;28;01mreturn\u001b[39;00m b\n",
      "File \u001b[0;32m~/miniforge3/envs/fenicsx-env/lib/python3.12/site-packages/dolfinx/fem/assemble.py:213\u001b[0m, in \u001b[0;36m_assemble_vector_array\u001b[0;34m(b, L, constants, coeffs)\u001b[0m\n\u001b[1;32m    189\u001b[0m \u001b[38;5;250m\u001b[39m\u001b[38;5;124;03m\"\"\"Assemble linear form into an existing array.\u001b[39;00m\n\u001b[1;32m    190\u001b[0m \n\u001b[1;32m    191\u001b[0m \u001b[38;5;124;03mArgs:\u001b[39;00m\n\u001b[0;32m   (...)\u001b[0m\n\u001b[1;32m    210\u001b[0m \n\u001b[1;32m    211\u001b[0m \u001b[38;5;124;03m\"\"\"\u001b[39;00m\n\u001b[1;32m    212\u001b[0m constants \u001b[38;5;241m=\u001b[39m _pack_constants(L\u001b[38;5;241m.\u001b[39m_cpp_object) \u001b[38;5;28;01mif\u001b[39;00m constants \u001b[38;5;129;01mis\u001b[39;00m \u001b[38;5;28;01mNone\u001b[39;00m \u001b[38;5;28;01melse\u001b[39;00m constants\n\u001b[0;32m--> 213\u001b[0m coeffs \u001b[38;5;241m=\u001b[39m \u001b[43m_pack_coefficients\u001b[49m\u001b[43m(\u001b[49m\u001b[43mL\u001b[49m\u001b[38;5;241;43m.\u001b[39;49m\u001b[43m_cpp_object\u001b[49m\u001b[43m)\u001b[49m \u001b[38;5;28;01mif\u001b[39;00m coeffs \u001b[38;5;129;01mis\u001b[39;00m \u001b[38;5;28;01mNone\u001b[39;00m \u001b[38;5;28;01melse\u001b[39;00m coeffs\n\u001b[1;32m    214\u001b[0m _cpp\u001b[38;5;241m.\u001b[39mfem\u001b[38;5;241m.\u001b[39massemble_vector(b, L\u001b[38;5;241m.\u001b[39m_cpp_object, constants, coeffs)\n\u001b[1;32m    215\u001b[0m \u001b[38;5;28;01mreturn\u001b[39;00m b\n",
      "\u001b[0;31mKeyboardInterrupt\u001b[0m: "
     ]
    }
   ],
   "source": [
    "model.solve()"
   ]
  }
 ],
 "metadata": {
  "kernelspec": {
   "display_name": "fenicsx-env",
   "language": "python",
   "name": "python3"
  },
  "language_info": {
   "codemirror_mode": {
    "name": "ipython",
    "version": 3
   },
   "file_extension": ".py",
   "mimetype": "text/x-python",
   "name": "python",
   "nbconvert_exporter": "python",
   "pygments_lexer": "ipython3",
   "version": "3.12.2"
  }
 },
 "nbformat": 4,
 "nbformat_minor": 2
}
