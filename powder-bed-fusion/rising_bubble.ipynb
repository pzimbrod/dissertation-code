{
 "cells": [
  {
   "cell_type": "code",
   "execution_count": 1,
   "metadata": {},
   "outputs": [],
   "source": [
    "from dolfinx.mesh import create_rectangle\n",
    "from mpi4py import MPI\n",
    "\n",
    "from dolfinx.fem import function, functionspace\n",
    "from basix.ufl import element, mixed_element\n"
   ]
  },
  {
   "cell_type": "code",
   "execution_count": 2,
   "metadata": {},
   "outputs": [],
   "source": [
    "from MultiphysicsModel.Mesh import RBMesh\n",
    "import numpy as np\n",
    "\n",
    "a = 1.44e-3\n",
    "\n",
    "# Lower left and upper right edges\n",
    "points = ((-2*a,-2*a),(2*a,2*a))\n",
    "\n",
    "# Number of elements\n",
    "n = (100,100)\n",
    "\n",
    "markers = {\n",
    "    \"leftright\":    lambda x: np.isclose(x[0], -2*a) | np.isclose(x[0],2*a),\n",
    "    \"top\":          lambda x: np.isclose(x[1], 2*a),\n",
    "    \"bottom\":       lambda x: np.isclose(x[1], -2*a),\n",
    "}\n",
    "\n",
    "mesh = RBMesh(points=points, n=n, bc_markers=markers)"
   ]
  },
  {
   "cell_type": "code",
   "execution_count": 16,
   "metadata": {},
   "outputs": [
    {
     "ename": "KeyError",
     "evalue": "'alpha_solid'",
     "output_type": "error",
     "traceback": [
      "\u001b[0;31m---------------------------------------------------------------------------\u001b[0m",
      "\u001b[0;31mKeyError\u001b[0m                                  Traceback (most recent call last)",
      "Cell \u001b[0;32mIn[16], line 41\u001b[0m\n\u001b[1;32m      1\u001b[0m \u001b[38;5;28;01mfrom\u001b[39;00m \u001b[38;5;21;01mPBFModel\u001b[39;00m\u001b[38;5;21;01m.\u001b[39;00m\u001b[38;5;21;01mFEData\u001b[39;00m \u001b[38;5;28;01mimport\u001b[39;00m FEData\n\u001b[1;32m      3\u001b[0m fe_config \u001b[38;5;241m=\u001b[39m {\n\u001b[1;32m      4\u001b[0m \n\u001b[1;32m      5\u001b[0m     \u001b[38;5;124m\"\u001b[39m\u001b[38;5;124malpha1\u001b[39m\u001b[38;5;124m\"\u001b[39m: {\n\u001b[0;32m   (...)\u001b[0m\n\u001b[1;32m     38\u001b[0m         },\n\u001b[1;32m     39\u001b[0m }\n\u001b[0;32m---> 41\u001b[0m fe_data \u001b[38;5;241m=\u001b[39m \u001b[43mFEData\u001b[49m\u001b[43m(\u001b[49m\u001b[43mmesh\u001b[49m\u001b[38;5;241;43m=\u001b[39;49m\u001b[43mmesh\u001b[49m\u001b[43m,\u001b[49m\u001b[43m \u001b[49m\u001b[43mconfig\u001b[49m\u001b[38;5;241;43m=\u001b[39;49m\u001b[43mfe_config\u001b[49m\u001b[43m,\u001b[49m\u001b[43m \u001b[49m\u001b[43mcreate_mixed\u001b[49m\u001b[38;5;241;43m=\u001b[39;49m\u001b[38;5;28;43;01mTrue\u001b[39;49;00m\u001b[43m)\u001b[49m\n",
      "File \u001b[0;32m~/Documents/Dissertation/Code/powder-bed-fusion/PBFModel/FEData.py:90\u001b[0m, in \u001b[0;36mFEData.__init__\u001b[0;34m(self, mesh, config, create_mixed)\u001b[0m\n\u001b[1;32m     80\u001b[0m \u001b[38;5;28mself\u001b[39m\u001b[38;5;241m.\u001b[39mdefault_time_schemes \u001b[38;5;241m=\u001b[39m {\n\u001b[1;32m     81\u001b[0m     \u001b[38;5;124m\"\u001b[39m\u001b[38;5;124malpha_solid\u001b[39m\u001b[38;5;124m\"\u001b[39m:  \u001b[38;5;124m\"\u001b[39m\u001b[38;5;124mexplicit euler\u001b[39m\u001b[38;5;124m\"\u001b[39m,\n\u001b[1;32m     82\u001b[0m     \u001b[38;5;124m\"\u001b[39m\u001b[38;5;124malpha_liquid\u001b[39m\u001b[38;5;124m\"\u001b[39m: \u001b[38;5;124m\"\u001b[39m\u001b[38;5;124mexplicit euler\u001b[39m\u001b[38;5;124m\"\u001b[39m,\n\u001b[0;32m   (...)\u001b[0m\n\u001b[1;32m     86\u001b[0m     \u001b[38;5;124m\"\u001b[39m\u001b[38;5;124mT\u001b[39m\u001b[38;5;124m\"\u001b[39m:            \u001b[38;5;124m\"\u001b[39m\u001b[38;5;124mimplicit euler\u001b[39m\u001b[38;5;124m\"\u001b[39m,\n\u001b[1;32m     87\u001b[0m }\n\u001b[1;32m     89\u001b[0m \u001b[38;5;66;03m# Algebraic expressions that can be evaluated in a postprocessing step\u001b[39;00m\n\u001b[0;32m---> 90\u001b[0m \u001b[38;5;28mself\u001b[39m\u001b[38;5;241m.\u001b[39mexpressions \u001b[38;5;241m=\u001b[39m \u001b[38;5;28;43mself\u001b[39;49m\u001b[38;5;241;43m.\u001b[39;49m\u001b[43m__init_expressions\u001b[49m\u001b[43m(\u001b[49m\u001b[43m)\u001b[49m\n\u001b[1;32m     92\u001b[0m \u001b[38;5;28;01mreturn\u001b[39;00m\n",
      "File \u001b[0;32m~/Documents/Dissertation/Code/powder-bed-fusion/PBFModel/FEData.py:197\u001b[0m, in \u001b[0;36mFEData.__init_expressions\u001b[0;34m(self)\u001b[0m\n\u001b[1;32m    192\u001b[0m expressions \u001b[38;5;241m=\u001b[39m {}\n\u001b[1;32m    194\u001b[0m \u001b[38;5;66;03m# one of the phase fractions can be calculated by evaluating the algebraic\u001b[39;00m\n\u001b[1;32m    195\u001b[0m \u001b[38;5;66;03m# constraint $$ \\sum_i \\alpha_i = 1.0 $$\u001b[39;00m\n\u001b[1;32m    196\u001b[0m expressions[\u001b[38;5;124m\"\u001b[39m\u001b[38;5;124malpha_gas\u001b[39m\u001b[38;5;124m\"\u001b[39m] \u001b[38;5;241m=\u001b[39m Expression(\n\u001b[0;32m--> 197\u001b[0m     \u001b[38;5;241m1.0\u001b[39m \u001b[38;5;241m-\u001b[39m \u001b[38;5;28;43mself\u001b[39;49m\u001b[38;5;241;43m.\u001b[39;49m\u001b[43msolution\u001b[49m\u001b[43m[\u001b[49m\u001b[38;5;124;43m\"\u001b[39;49m\u001b[38;5;124;43malpha_solid\u001b[39;49m\u001b[38;5;124;43m\"\u001b[39;49m\u001b[43m]\u001b[49m\u001b[38;5;241m.\u001b[39mcurrent \u001b[38;5;241m-\u001b[39m \u001b[38;5;28mself\u001b[39m\u001b[38;5;241m.\u001b[39msolution[\u001b[38;5;124m\"\u001b[39m\u001b[38;5;124malpha_liquid\u001b[39m\u001b[38;5;124m\"\u001b[39m]\u001b[38;5;241m.\u001b[39mcurrent,\n\u001b[1;32m    198\u001b[0m     \u001b[38;5;28mself\u001b[39m\u001b[38;5;241m.\u001b[39mfunction_spaces[\u001b[38;5;124m\"\u001b[39m\u001b[38;5;124malpha_gas\u001b[39m\u001b[38;5;124m\"\u001b[39m]\u001b[38;5;241m.\u001b[39melement\u001b[38;5;241m.\u001b[39minterpolation_points())\n\u001b[1;32m    200\u001b[0m \u001b[38;5;28;01mreturn\u001b[39;00m expressions\n",
      "\u001b[0;31mKeyError\u001b[0m: 'alpha_solid'"
     ]
    }
   ],
   "source": [
    "from MultiphysicsModel.FEData import FEData\n",
    "\n",
    "fe_config = {\n",
    "\n",
    "    \"alpha1\": {\n",
    "        \"element\": \"DG\", \n",
    "        \"degree\": 1, \n",
    "        \"type\": \"scalar\",\n",
    "        \"time_scheme\":  \"explicit euler\",\n",
    "    },\n",
    "\n",
    "    \"alpha2\": {\n",
    "        \"element\": \"DG\", \n",
    "        \"degree\": 1, \n",
    "        \"type\": \"scalar\",\n",
    "        \"time_scheme\":  \"explicit euler\",\n",
    "        },\n",
    "\n",
    "    \"p\": {\n",
    "        \"element\": \"CG\", \n",
    "        \"degree\": 1, \n",
    "        \"type\": \"scalar\",\n",
    "        \"time_scheme\":  \"explicit euler\",\n",
    "        },\n",
    "\n",
    "    \"u\": {\n",
    "        \"element\": \"CG\", \n",
    "        \"degree\": 2, \n",
    "        \"type\": \"vector\",\n",
    "        \"time_scheme\":  \"explicit euler\",\n",
    "        },\n",
    "\n",
    "    \"T\": {\n",
    "        \"element\": \"CG\", \n",
    "        \"degree\": 1, \n",
    "        \"type\": \"scalar\",\n",
    "        \"time_scheme\":  \"explicit euler\",\n",
    "        },\n",
    "}\n",
    "\n",
    "fe_data = FEData(mesh=mesh, config=fe_config, create_mixed=True)"
   ]
  },
  {
   "cell_type": "code",
   "execution_count": 8,
   "metadata": {},
   "outputs": [],
   "source": [
    "cell = mesh.dolfinx_mesh.basix_cell()\n",
    "fe_T        = element(\"P\", cell, degree=1, discontinuous=False)\n",
    "fe_p        = element(\"P\", cell, degree=1, discontinuous=True)\n",
    "fe_u        = element(\"P\", cell, degree=1, discontinuous=False, shape=(mesh.cell_dim,))\n",
    "fe_alpha    = element(\"P\", cell, degree=1, discontinuous=True)\n",
    "\n",
    "fe_mixed = mixed_element([fe_alpha,fe_u,fe_p,fe_T])"
   ]
  },
  {
   "cell_type": "code",
   "execution_count": 9,
   "metadata": {},
   "outputs": [],
   "source": [
    "fs = functionspace(mesh=mesh.dolfinx_mesh,element=fe_mixed)\n",
    "fs_idxs = {     # Maps the field name to the sub-index of the compound function space\n",
    "    \"alpha\":    0,\n",
    "    \"u\":        1,\n",
    "    \"p\":        2,\n",
    "    \"T\":        3,\n",
    "}"
   ]
  },
  {
   "cell_type": "markdown",
   "metadata": {},
   "source": [
    "According to [this discussion](https://fenicsproject.discourse.group/t/cannot-find-dofs-for-discontinuous-element/10900/3), discontinuous spaces do not have DoFs that live on a facet. Thus, `locate_dofs_topological` does not find any DoFs there. Must rely on `locate_dofs_geometrical` for now."
   ]
  },
  {
   "cell_type": "code",
   "execution_count": 10,
   "metadata": {},
   "outputs": [],
   "source": [
    "from dolfinx.fem import locate_dofs_geometrical\n",
    "\n",
    "boundary_dofs = {}\n",
    "\n",
    "for (field,idx) in fs_idxs.items():\n",
    "    boundary_dofs[field] = {}\n",
    "    sub = fs.sub(idx)\n",
    "    space, _ = sub.collapse()\n",
    "    for (facet,marker) in markers.items():\n",
    "        boundary_dofs[field][facet] = locate_dofs_geometrical(\n",
    "            V=(sub,space),\n",
    "            marker=marker\n",
    "        )\n",
    "\n",
    "boundary_dofs[\"u_x\"] = {}\n",
    "sub = fs.sub(fs_idxs[\"u\"]).sub(0)\n",
    "space, _ = sub.collapse()\n",
    "for (facet,marker) in markers.items():\n",
    "        boundary_dofs[\"u_x\"][facet] = locate_dofs_geometrical(\n",
    "            V=(sub,space),\n",
    "            marker=marker\n",
    "        )\n"
   ]
  },
  {
   "cell_type": "code",
   "execution_count": 11,
   "metadata": {},
   "outputs": [],
   "source": [
    "from dolfinx.fem import Function\n",
    "\n",
    "T_l = 290.000 # K\n",
    "T_u = 291.152 # K\n",
    "\n",
    "T_bottom = Function(fs.sub(fs_idxs[\"T\"]).collapse()[0])\n",
    "T_top = Function(fs.sub(fs_idxs[\"T\"]).collapse()[0])\n",
    "\n",
    "T_bottom.interpolate(lambda x: np.full(x.shape[0],T_l))\n",
    "T_top.interpolate(lambda x: np.full(x.shape[0],T_u))\n",
    "\n",
    "u_x_bc = Function(fs.sub(fs_idxs[\"u\"]).sub(0).collapse()[0])    # x component of velocity\n",
    "u_x_bc.interpolate(lambda x: np.full(x.shape[0], (0.)))\n",
    "\n",
    "p_bc = Function(fs.sub(fs_idxs[\"p\"]).collapse()[0])\n",
    "p_bc.interpolate(lambda x: np.full(x.shape[0],0.0))"
   ]
  },
  {
   "cell_type": "code",
   "execution_count": 12,
   "metadata": {},
   "outputs": [],
   "source": [
    "from dolfinx.fem import dirichletbc\n",
    "\n",
    "bcs = {}\n",
    "\n",
    "bcs[\"T\"] = [\n",
    "    dirichletbc(value=T_bottom, dofs=boundary_dofs[\"T\"][\"bottom\"],V=fs.sub(fs_idxs[\"T\"])),\n",
    "    dirichletbc(value=T_top, dofs=boundary_dofs[\"T\"][\"top\"],V=fs.sub(fs_idxs[\"T\"])),\n",
    "]\n",
    "\n",
    "bcs[\"u\"] = [\n",
    "    # Symmetry BC: no penetration through wall, tangential slip\n",
    "    dirichletbc(value=u_x_bc, dofs=boundary_dofs[\"u_x\"][\"leftright\"],V=fs.sub(fs_idxs[\"u\"]).sub(0)),\n",
    "    # No slip\n",
    "    dirichletbc(value=u_x_bc, dofs=boundary_dofs[\"u_x\"][\"top\"],V=fs.sub(fs_idxs[\"u\"]).sub(0)),\n",
    "    # No slip\n",
    "    dirichletbc(value=u_x_bc, dofs=boundary_dofs[\"u_x\"][\"bottom\"],V=fs.sub(fs_idxs[\"u\"]).sub(0)),\n",
    "]\n",
    "\n",
    "bcs[\"p\"] = [\n",
    "    dirichletbc(value=p_bc, dofs=boundary_dofs[\"p\"][\"leftright\"], V=fs.sub(fs_idxs[\"p\"]))\n",
    "]"
   ]
  },
  {
   "cell_type": "code",
   "execution_count": 13,
   "metadata": {},
   "outputs": [],
   "source": [
    "from MultiphysicsModel.TimeDependentFunction import TimeDependentFunction\n",
    "\n",
    "solution = TimeDependentFunction(previous=Function(fs),\n",
    "                                 current=Function(fs))\n",
    "\n",
    "functions = {}\n",
    "for (field, idx) in fs_idxs.items():\n",
    "    functions[field] = TimeDependentFunction(\n",
    "        previous=solution.previous.sub(idx),\n",
    "        current=solution.current.sub(idx)\n",
    "        )"
   ]
  },
  {
   "cell_type": "code",
   "execution_count": 10,
   "metadata": {},
   "outputs": [],
   "source": [
    "def IC_alpha1(x):\n",
    "            return np.where(np.sqrt(x[0]**2+x[1]**2) <= a, 1.0, 0.0)\n",
    "functions[\"alpha\"].previous.interpolate(IC_alpha1)\n",
    "\n",
    "def IC_T(x):\n",
    "        out = np.zeros(x.shape[0])\n",
    "        out[:] = (T_l+T_u)/2.0 + (T_u-T_l)/(4.0*a) * x[:,1]\n",
    "        return out\n",
    "functions[\"T\"].previous.interpolate(IC_T)"
   ]
  },
  {
   "cell_type": "code",
   "execution_count": 11,
   "metadata": {},
   "outputs": [
    {
     "ename": "AttributeError",
     "evalue": "'Mesh' object has no attribute 'dolfinx_mesh'",
     "output_type": "error",
     "traceback": [
      "\u001b[0;31m---------------------------------------------------------------------------\u001b[0m",
      "\u001b[0;31mAttributeError\u001b[0m                            Traceback (most recent call last)",
      "Cell \u001b[0;32mIn[11], line 3\u001b[0m\n\u001b[1;32m      1\u001b[0m \u001b[38;5;28;01mfrom\u001b[39;00m \u001b[38;5;21;01mPBFModel\u001b[39;00m\u001b[38;5;21;01m.\u001b[39;00m\u001b[38;5;21;01mFEOperators\u001b[39;00m \u001b[38;5;28;01mimport\u001b[39;00m FEOperators\n\u001b[0;32m----> 3\u001b[0m ops \u001b[38;5;241m=\u001b[39m \u001b[43mFEOperators\u001b[49m\u001b[43m(\u001b[49m\u001b[43mmesh\u001b[49m\u001b[38;5;241;43m=\u001b[39;49m\u001b[43mmesh\u001b[49m\u001b[43m)\u001b[49m\n",
      "File \u001b[0;32m~/Documents/Dissertation/Code/powder-bed-fusion/PBFModel/FEOperators.py:14\u001b[0m, in \u001b[0;36mFEOperators.__init__\u001b[0;34m(self, mesh)\u001b[0m\n\u001b[1;32m     13\u001b[0m \u001b[38;5;28;01mdef\u001b[39;00m \u001b[38;5;21m__init__\u001b[39m(\u001b[38;5;28mself\u001b[39m, mesh: Mesh) \u001b[38;5;241m-\u001b[39m\u001b[38;5;241m>\u001b[39m \u001b[38;5;28;01mNone\u001b[39;00m:\n\u001b[0;32m---> 14\u001b[0m     \u001b[38;5;28mself\u001b[39m\u001b[38;5;241m.\u001b[39mn \u001b[38;5;241m=\u001b[39m FacetNormal(\u001b[43mmesh\u001b[49m\u001b[38;5;241;43m.\u001b[39;49m\u001b[43mdolfinx_mesh\u001b[49m)\n\u001b[1;32m     15\u001b[0m     \u001b[38;5;28mself\u001b[39m\u001b[38;5;241m.\u001b[39mI \u001b[38;5;241m=\u001b[39m Identity(mesh\u001b[38;5;241m.\u001b[39mcell_dim)\n\u001b[1;32m     17\u001b[0m     \u001b[38;5;28;01mreturn\u001b[39;00m\n",
      "\u001b[0;31mAttributeError\u001b[0m: 'Mesh' object has no attribute 'dolfinx_mesh'"
     ]
    }
   ],
   "source": [
    "from MultiphysicsModel.FEOperators import FEOperators\n",
    "\n",
    "ops = FEOperators(mesh=mesh)"
   ]
  },
  {
   "cell_type": "code",
   "execution_count": null,
   "metadata": {},
   "outputs": [],
   "source": []
  }
 ],
 "metadata": {
  "kernelspec": {
   "display_name": "fenicsx-env",
   "language": "python",
   "name": "python3"
  },
  "language_info": {
   "codemirror_mode": {
    "name": "ipython",
    "version": 3
   },
   "file_extension": ".py",
   "mimetype": "text/x-python",
   "name": "python",
   "nbconvert_exporter": "python",
   "pygments_lexer": "ipython3",
   "version": "3.12.2"
  }
 },
 "nbformat": 4,
 "nbformat_minor": 2
}
