{
 "cells": [
  {
   "cell_type": "code",
   "execution_count": 1,
   "metadata": {},
   "outputs": [],
   "source": [
    "from dolfinx.mesh import create_rectangle\n",
    "from mpi4py import MPI\n",
    "\n",
    "from dolfinx.fem import function, functionspace\n",
    "from basix.ufl import element, mixed_element\n"
   ]
  },
  {
   "cell_type": "code",
   "execution_count": 2,
   "metadata": {},
   "outputs": [],
   "source": [
    "from MultiphysicsModel.Mesh import RBMesh\n",
    "import numpy as np\n",
    "\n",
    "a = 1.44e-3\n",
    "\n",
    "model_parameters = {\n",
    "    \"a\":            a,\n",
    "    \"coords\":       ((-2*a,-2*a),(2*a,2*a)),\n",
    "    \"grid_size\":    (100,100),\n",
    "    \"temp_top\":     291.152, # K\n",
    "    \"temp_bottom\":  290.000, # K\n",
    "}\n",
    "\n",
    "\n",
    "markers = {\n",
    "    \"leftright\":    lambda x: np.isclose(x[0], -2*a) | np.isclose(x[0],2*a),\n",
    "    \"top\":          lambda x: np.isclose(x[1], 2*a),\n",
    "    \"bottom\":       lambda x: np.isclose(x[1], -2*a),\n",
    "}\n",
    "\n",
    "mesh = RBMesh(points=model_parameters[\"coords\"], \n",
    "              n=model_parameters[\"grid_size\"],\n",
    "              bc_markers=markers)"
   ]
  },
  {
   "cell_type": "code",
   "execution_count": 3,
   "metadata": {},
   "outputs": [],
   "source": [
    "from MultiphysicsModel.FEData import RBData\n",
    "\n",
    "fe_config = {\n",
    "\n",
    "    \"alpha1\": {\n",
    "        \"element\": \"DG\", \n",
    "        \"degree\": 1, \n",
    "        \"type\": \"scalar\",\n",
    "        \"time_scheme\":  \"explicit euler\",\n",
    "    },\n",
    "\n",
    "    \"alpha2\": {\n",
    "        \"element\": \"DG\", \n",
    "        \"degree\": 1, \n",
    "        \"type\": \"scalar\",\n",
    "        \"time_scheme\":  \"explicit euler\",\n",
    "        },\n",
    "\n",
    "    \"p\": {\n",
    "        \"element\": \"DG\", \n",
    "        \"degree\": 1, \n",
    "        \"type\": \"scalar\",\n",
    "        \"time_scheme\":  \"explicit euler\",\n",
    "        },\n",
    "\n",
    "    \"u\": {\n",
    "        \"element\": \"CG\", \n",
    "        \"degree\": 1, \n",
    "        \"type\": \"vector\",\n",
    "        \"time_scheme\":  \"explicit euler\",\n",
    "        },\n",
    "\n",
    "    \"T\": {\n",
    "        \"element\": \"CG\", \n",
    "        \"degree\": 1, \n",
    "        \"type\": \"scalar\",\n",
    "        \"time_scheme\":  \"explicit euler\",\n",
    "        },\n",
    "}\n",
    "\n",
    "fe_data = RBData(mesh=mesh, config=fe_config, create_mixed=True)"
   ]
  },
  {
   "cell_type": "markdown",
   "metadata": {},
   "source": [
    "According to [this discussion](https://fenicsproject.discourse.group/t/cannot-find-dofs-for-discontinuous-element/10900/3), discontinuous spaces do not have DoFs that live on a facet. Thus, `locate_dofs_topological` does not find any DoFs there. Must rely on `locate_dofs_geometrical` for now."
   ]
  },
  {
   "cell_type": "code",
   "execution_count": 4,
   "metadata": {},
   "outputs": [],
   "source": [
    "from MultiphysicsModel.InitialCondition import RBInitialConditions\n",
    "\n",
    "ics = RBInitialConditions(params=model_parameters)\n",
    "ics.apply(fe_data=fe_data)"
   ]
  },
  {
   "cell_type": "code",
   "execution_count": 5,
   "metadata": {},
   "outputs": [
    {
     "data": {
      "text/plain": [
       "[<dolfinx.fem.bcs.DirichletBC at 0x11e787380>,\n",
       " <dolfinx.fem.bcs.DirichletBC at 0x11f01a900>,\n",
       " <dolfinx.fem.bcs.DirichletBC at 0x11e7fa540>,\n",
       " <dolfinx.fem.bcs.DirichletBC at 0x11e7f8d70>,\n",
       " <dolfinx.fem.bcs.DirichletBC at 0x11e710950>,\n",
       " <dolfinx.fem.bcs.DirichletBC at 0x11f019b80>]"
      ]
     },
     "execution_count": 5,
     "metadata": {},
     "output_type": "execute_result"
    }
   ],
   "source": [
    "from MultiphysicsModel.BoundaryCondition import RBBoundaryConditions\n",
    "\n",
    "bcs = RBBoundaryConditions(fe_data=fe_data,parameters=model_parameters)\n",
    "bcs.apply(mesh=mesh,fe_data=fe_data)\n",
    "bcs.bc_list"
   ]
  },
  {
   "cell_type": "code",
   "execution_count": 6,
   "metadata": {},
   "outputs": [],
   "source": [
    "from MultiphysicsModel.FEOperators import FEOperators\n",
    "\n",
    "ops = FEOperators(mesh=mesh)"
   ]
  },
  {
   "cell_type": "code",
   "execution_count": null,
   "metadata": {},
   "outputs": [],
   "source": []
  }
 ],
 "metadata": {
  "kernelspec": {
   "display_name": "fenicsx-env",
   "language": "python",
   "name": "python3"
  },
  "language_info": {
   "codemirror_mode": {
    "name": "ipython",
    "version": 3
   },
   "file_extension": ".py",
   "mimetype": "text/x-python",
   "name": "python",
   "nbconvert_exporter": "python",
   "pygments_lexer": "ipython3",
   "version": "3.12.2"
  }
 },
 "nbformat": 4,
 "nbformat_minor": 2
}
