{
 "cells": [
  {
   "cell_type": "code",
   "execution_count": 1,
   "metadata": {},
   "outputs": [],
   "source": [
    "import numpy as np\n",
    "\n",
    "a = 1.44e-3\n",
    "\n",
    "model_parameters = {\n",
    "    \"a\":            a,\n",
    "    \"coords\":       ((-2*a,-2*a),(2*a,2*a)),\n",
    "    \"grid_size\":    (100,100),\n",
    "    \"temp_top\":     291.152, # K\n",
    "    \"temp_bottom\":  290.000, # K\n",
    "}\n",
    "\n",
    "\n",
    "markers = {\n",
    "    \"leftright\":    lambda x: np.isclose(x[0], -2*a) | np.isclose(x[0],2*a),\n",
    "    \"top\":          lambda x: np.isclose(x[1], 2*a),\n",
    "    \"bottom\":       lambda x: np.isclose(x[1], -2*a),\n",
    "}\n",
    "\n",
    "material_model = {\n",
    "    \"alpha1\": {\n",
    "        \"rho\":      250.0,\n",
    "        \"cp\":       5e-5,\n",
    "        \"mu\":       0.012,\n",
    "        \"kappa\":    1.2e-6,\n",
    "    },\n",
    "    \"alpha2\": {\n",
    "        \"rho\":      500.0,\n",
    "        \"cp\":       1e-4,\n",
    "        \"mu\":       0.024,\n",
    "        \"kappa\":    2.4e-6\n",
    "    },\n",
    "}\n"
   ]
  },
  {
   "cell_type": "code",
   "execution_count": 2,
   "metadata": {},
   "outputs": [],
   "source": [
    "fe_config = {\n",
    "\n",
    "    \"alpha1\": {\n",
    "        \"element\": \"DG\", \n",
    "        \"degree\": 1, \n",
    "        \"type\": \"scalar\",\n",
    "        \"time_scheme\":  \"explicit euler\",\n",
    "    },\n",
    "\n",
    "    \"alpha2\": {\n",
    "        \"element\": \"DG\", \n",
    "        \"degree\": 1, \n",
    "        \"type\": \"scalar\",\n",
    "        \"time_scheme\":  \"explicit euler\",\n",
    "        },\n",
    "\n",
    "    \"p\": {\n",
    "        \"element\": \"DG\", \n",
    "        \"degree\": 1, \n",
    "        \"type\": \"scalar\",\n",
    "        \"time_scheme\":  \"explicit euler\",\n",
    "        },\n",
    "\n",
    "    \"u\": {\n",
    "        \"element\": \"CG\", \n",
    "        \"degree\": 1, \n",
    "        \"type\": \"vector\",\n",
    "        \"time_scheme\":  \"explicit euler\",\n",
    "        },\n",
    "\n",
    "    \"T\": {\n",
    "        \"element\": \"CG\", \n",
    "        \"degree\": 1, \n",
    "        \"type\": \"scalar\",\n",
    "        \"time_scheme\":  \"explicit euler\",\n",
    "        },\n",
    "}"
   ]
  },
  {
   "cell_type": "markdown",
   "metadata": {},
   "source": [
    "According to [this discussion](https://fenicsproject.discourse.group/t/cannot-find-dofs-for-discontinuous-element/10900/3), discontinuous spaces do not have DoFs that live on a facet. Thus, `locate_dofs_topological` does not find any DoFs there. Must rely on `locate_dofs_geometrical` for now."
   ]
  },
  {
   "cell_type": "code",
   "execution_count": 3,
   "metadata": {},
   "outputs": [
    {
     "name": "stdout",
     "output_type": "stream",
     "text": [
      "Model has Degrees of Freedom (DoFs):\n",
      "alpha1:    60,000\n",
      "alpha2:    60,000\n",
      "p:    60,000\n",
      "u:    20,402\n",
      "T:    10,201\n",
      "Total:    210,603\n"
     ]
    }
   ],
   "source": [
    "from MultiphysicsModel.RisingBubbleModel import RisingBubbleModel\n",
    "\n",
    "model = RisingBubbleModel(\n",
    "    model_parameters=model_parameters,\n",
    "    material_model=material_model,\n",
    "    fe_config=fe_config,\n",
    "    bc_markers=markers,\n",
    "    timestep=2e-5,\n",
    "    time_domain=(0.0,0.12),\n",
    "    create_mixed=True\n",
    ")"
   ]
  },
  {
   "cell_type": "code",
   "execution_count": 4,
   "metadata": {},
   "outputs": [],
   "source": [
    "model.setup()"
   ]
  },
  {
   "cell_type": "code",
   "execution_count": null,
   "metadata": {},
   "outputs": [],
   "source": [
    "model.solve()"
   ]
  }
 ],
 "metadata": {
  "kernelspec": {
   "display_name": "fenicsx-env",
   "language": "python",
   "name": "python3"
  },
  "language_info": {
   "codemirror_mode": {
    "name": "ipython",
    "version": 3
   },
   "file_extension": ".py",
   "mimetype": "text/x-python",
   "name": "python",
   "nbconvert_exporter": "python",
   "pygments_lexer": "ipython3",
   "version": "3.12.2"
  }
 },
 "nbformat": 4,
 "nbformat_minor": 2
}
