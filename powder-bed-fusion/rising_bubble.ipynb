{
 "cells": [
  {
   "cell_type": "code",
   "execution_count": 1,
   "metadata": {},
   "outputs": [],
   "source": [
    "from dolfinx.mesh import create_rectangle\n",
    "from mpi4py import MPI\n",
    "\n",
    "from dolfinx.fem import function, functionspace\n",
    "from basix.ufl import element, mixed_element\n"
   ]
  },
  {
   "cell_type": "code",
   "execution_count": 2,
   "metadata": {},
   "outputs": [],
   "source": [
    "from MultiphysicsModel.Mesh import RBMesh\n",
    "import numpy as np\n",
    "\n",
    "a = 1.44e-3\n",
    "\n",
    "model_parameters = {\n",
    "    \"a\":            a,\n",
    "    \"coords\":       ((-2*a,-2*a),(2*a,2*a)),\n",
    "    \"grid_size\":    (100,100),\n",
    "    \"temp_top\":     291.152, # K\n",
    "    \"temp_bottom\":  290.000, # K\n",
    "}\n",
    "\n",
    "\n",
    "markers = {\n",
    "    \"leftright\":    lambda x: np.isclose(x[0], -2*a) | np.isclose(x[0],2*a),\n",
    "    \"top\":          lambda x: np.isclose(x[1], 2*a),\n",
    "    \"bottom\":       lambda x: np.isclose(x[1], -2*a),\n",
    "}\n",
    "\n",
    "material_model = {\n",
    "    \"alpha1\": {\n",
    "        \"rho\":      250.0,\n",
    "        \"cp\":       5e-5,\n",
    "        \"mu\":       0.012,\n",
    "        \"Pr\":       0.5,\n",
    "    },\n",
    "    \"alpha2\": {\n",
    "        \"rho\":      500.0,\n",
    "        \"cp\":       1e-4,\n",
    "        \"mu\":       0.024,\n",
    "        \"Pr\":       1.0,\n",
    "    },\n",
    "}\n",
    "\n",
    "mesh = RBMesh(points=model_parameters[\"coords\"], \n",
    "              n=model_parameters[\"grid_size\"],\n",
    "              bc_markers=markers)"
   ]
  },
  {
   "cell_type": "code",
   "execution_count": 3,
   "metadata": {},
   "outputs": [],
   "source": [
    "from MultiphysicsModel.FEData import RBData\n",
    "\n",
    "fe_config = {\n",
    "\n",
    "    \"alpha1\": {\n",
    "        \"element\": \"DG\", \n",
    "        \"degree\": 1, \n",
    "        \"type\": \"scalar\",\n",
    "        \"time_scheme\":  \"explicit euler\",\n",
    "    },\n",
    "\n",
    "    \"alpha2\": {\n",
    "        \"element\": \"DG\", \n",
    "        \"degree\": 1, \n",
    "        \"type\": \"scalar\",\n",
    "        \"time_scheme\":  \"explicit euler\",\n",
    "        },\n",
    "\n",
    "    \"p\": {\n",
    "        \"element\": \"DG\", \n",
    "        \"degree\": 1, \n",
    "        \"type\": \"scalar\",\n",
    "        \"time_scheme\":  \"explicit euler\",\n",
    "        },\n",
    "\n",
    "    \"u\": {\n",
    "        \"element\": \"CG\", \n",
    "        \"degree\": 1, \n",
    "        \"type\": \"vector\",\n",
    "        \"time_scheme\":  \"explicit euler\",\n",
    "        },\n",
    "\n",
    "    \"T\": {\n",
    "        \"element\": \"CG\", \n",
    "        \"degree\": 1, \n",
    "        \"type\": \"scalar\",\n",
    "        \"time_scheme\":  \"explicit euler\",\n",
    "        },\n",
    "}\n",
    "\n",
    "fe_data = RBData(mesh=mesh, config=fe_config, create_mixed=True)"
   ]
  },
  {
   "cell_type": "markdown",
   "metadata": {},
   "source": [
    "According to [this discussion](https://fenicsproject.discourse.group/t/cannot-find-dofs-for-discontinuous-element/10900/3), discontinuous spaces do not have DoFs that live on a facet. Thus, `locate_dofs_topological` does not find any DoFs there. Must rely on `locate_dofs_geometrical` for now."
   ]
  },
  {
   "cell_type": "code",
   "execution_count": 4,
   "metadata": {},
   "outputs": [],
   "source": [
    "from MultiphysicsModel.InitialCondition import RBInitialConditions\n",
    "\n",
    "ics = RBInitialConditions(params=model_parameters)\n",
    "ics.apply(fe_data=fe_data)"
   ]
  },
  {
   "cell_type": "code",
   "execution_count": 5,
   "metadata": {},
   "outputs": [],
   "source": [
    "from MultiphysicsModel.BoundaryCondition import RBBoundaryConditions\n",
    "\n",
    "bcs = RBBoundaryConditions(fe_data=fe_data,parameters=model_parameters)\n",
    "bcs.apply(mesh=mesh,fe_data=fe_data)"
   ]
  },
  {
   "cell_type": "code",
   "execution_count": 6,
   "metadata": {},
   "outputs": [],
   "source": [
    "from MultiphysicsModel.FEOperators import FEOperators\n",
    "\n",
    "ops = FEOperators(mesh=mesh)"
   ]
  },
  {
   "cell_type": "code",
   "execution_count": 6,
   "metadata": {},
   "outputs": [
    {
     "name": "stdout",
     "output_type": "stream",
     "text": [
      "Model has Degrees of Freedom (DoFs):\n",
      "alpha1:    60,000\n",
      "alpha2:    60,000\n",
      "p:    60,000\n",
      "u:    20,402\n",
      "T:    10,201\n",
      "Total:    210,603\n"
     ]
    }
   ],
   "source": [
    "from MultiphysicsModel.RisingBubbleModel import RisingBubbleModel\n",
    "\n",
    "model = RisingBubbleModel(\n",
    "    model_parameters=model_parameters,\n",
    "    material_model=material_model,\n",
    "    fe_config=fe_config,\n",
    "    bc_markers=markers,\n",
    "    timestep=2e-5,\n",
    "    time_domain=(0.0,0.12),\n",
    "    create_mixed=True\n",
    ")"
   ]
  },
  {
   "cell_type": "code",
   "execution_count": null,
   "metadata": {},
   "outputs": [],
   "source": []
  }
 ],
 "metadata": {
  "kernelspec": {
   "display_name": "fenicsx-env",
   "language": "python",
   "name": "python3"
  },
  "language_info": {
   "codemirror_mode": {
    "name": "ipython",
    "version": 3
   },
   "file_extension": ".py",
   "mimetype": "text/x-python",
   "name": "python",
   "nbconvert_exporter": "python",
   "pygments_lexer": "ipython3",
   "version": "3.12.2"
  }
 },
 "nbformat": 4,
 "nbformat_minor": 2
}
