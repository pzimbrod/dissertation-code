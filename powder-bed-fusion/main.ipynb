{
 "cells": [
  {
   "cell_type": "markdown",
   "metadata": {},
   "source": [
    "This notebook contains the main parameters and simulation data to solve the single track fusion of 316L metal.\n",
    "\n",
    "It contains executable Python code that is available at [https://github.com/pzimbrod/galerkin-pbf-lb/blob/main/powder-bed-fusion/main.ipynb](https://github.com/pzimbrod/galerkin-pbf-lb/blob/main/powder-bed-fusion/main.ipynb).\n",
    "To run it, follow the instructions in the [Readme](https://github.com/pzimbrod/galerkin-pbf-lb/tree/main/powder-bed-fusion) file on GitHub.\n",
    "\n",
    "For the finite element implementation, the library `FEniCSx` is used.\n",
    "\n",
    "The core data structures and methods that are needed in order to describe and assemble this model are collected in the class `PBFModel` in this directory."
   ]
  },
  {
   "cell_type": "code",
   "execution_count": null,
   "metadata": {},
   "outputs": [],
   "source": [
    "from PBFModel.geometry import check_msh_file\n",
    "import os\n",
    "from PBFModel.PBFModel import PBFModel\n",
    "from dolfinx import log"
   ]
  },
  {
   "cell_type": "markdown",
   "metadata": {},
   "source": [
    "# Geometry\n",
    "\n",
    "The computational domain is created and triangulated using the `gmsh` software package.\n",
    "\n",
    "Here, a `.geo` file created by `gmsh` is read in, where the parameters of the three-dimensional, box-shaped domain are defined.\n",
    "\n",
    "To define the boundary conditions properly, the exterior facets of the domain have to be properly subdivided and assigned unique identifiers.\n",
    "This is also done in the input file. The `markers` dictionary reflects these markers which have integer values.\n",
    "Using these markers, the facets that are assigned to a specidic subdomain of the boundary can be accessed, e.g. the pre-heated, solidified bottom of the domain."
   ]
  },
  {
   "cell_type": "code",
   "execution_count": null,
   "metadata": {},
   "outputs": [],
   "source": [
    "#========   Set this to True if you want to overwrite an existing mesh (if one is present) ==========#\n",
    "# BUG: Topology computation for hex mesh never finishes, use tets for now\n",
    "use_hex_mesh = False\n",
    "create_new_mesh = False\n",
    "\n",
    "current_directory = os.getcwd()\n",
    "mesh_already_present = check_msh_file(current_directory)\n",
    "model_rank = 0\n",
    "\n",
    "# from GEO file\n",
    "markers = {\n",
    "    \"inlet\":    23,\n",
    "    \"outlet\":   24,\n",
    "    \"walls\":    25,\n",
    "    \"bottom\":   21\n",
    "}\n",
    "if not mesh_already_present or create_new_mesh:\n",
    "    os.system(\"gmsh -3 -format msh2 lpbf/mesh3d.geo -o mesh3d.msh\")"
   ]
  },
  {
   "cell_type": "markdown",
   "metadata": {},
   "source": [
    "# Finite Element Configuration"
   ]
  },
  {
   "cell_type": "markdown",
   "metadata": {},
   "source": [
    "One can either create the problem in a mixed formulation or in a separated fashion.\n",
    "\n",
    "In the former variant, the solution to the problem becomes one global vector of all unknowns of the model, in this case:\n",
    "\n",
    "$$ \\underline{u} = \\begin{bmatrix} \\alpha_s \\\\ \\alpha_l \\\\ \\alpha_g \\\\ p \\\\ u \\\\ T \\end{bmatrix} $$\n",
    "\n",
    "This creates a global nonlinear problem, which is solved at once in a monolithic fashion, which may for complicated problems be tedious to solve and slow to converge.\n",
    "However, relatively few steps are required in order to set up the actual numerical solver.\n",
    "\n",
    "Alternatively, one can create the variables of the PDE separately, i.e. in separate function spaces.\n",
    "In this case, the problem are also solved in separate stages, possibly yielding large speedups in the solution process.\n",
    "As a downside, however, this approach requires intricate knowledge about efficiently solving each system, for example pressure predictor-corrector schemes for the Navier-Stokes equations.\n",
    "\n",
    "For sake of simplicity, a mixed problem is created in this case:"
   ]
  },
  {
   "cell_type": "code",
   "execution_count": null,
   "metadata": {},
   "outputs": [],
   "source": [
    "create_mixed_problem = True"
   ]
  },
  {
   "cell_type": "markdown",
   "metadata": {},
   "source": [
    "To set up the finite elements and function spaces, some choices have to be made regarding the types and degrees of the elements.\n",
    "\n",
    "Details about the element choice can be found in the dissertation thesis.\n",
    "In principle, one must choose between `\"CG\"` and `\"DG\"` approximations, that is, function spaces using either continuous or discontinuous Lagrange polynomials, respectively.\n",
    "\n",
    "In addition, for each field, a time stepping scheme is required.\n",
    "In this case, one can choose between the explicit euler\n",
    "$$\n",
    "u_{n+1} = u_n + G(u_n)\n",
    "$$\n",
    "or implicit euler scheme\n",
    "$$\n",
    "u_{n+1} = u_n + G(u_{n+1}),\n",
    "$$\n",
    "where $G(u)$ contains the spatial differential operators of a PDE."
   ]
  },
  {
   "cell_type": "code",
   "execution_count": null,
   "metadata": {},
   "outputs": [],
   "source": [
    "fe_config = {\n",
    "\n",
    "    \"alpha_solid\": {\n",
    "        \"element\": \"DG\", \n",
    "        \"degree\": 1, \n",
    "        \"type\": \"scalar\",\n",
    "        \"time_scheme\":  \"explicit euler\",\n",
    "        },\n",
    "\n",
    "    \"alpha_liquid\": {\n",
    "        \"element\": \"DG\", \n",
    "        \"degree\": 1, \n",
    "        \"type\": \"scalar\",\n",
    "        \"time_scheme\":  \"explicit euler\",\n",
    "        },\n",
    "\n",
    "    \"alpha_gas\": {\n",
    "        \"element\": \"DG\", \n",
    "        \"degree\": 1, \n",
    "        \"type\": \"scalar\",\n",
    "        \"time_scheme\":  \"explicit euler\",\n",
    "        },\n",
    "\n",
    "    \"p\": {\n",
    "        \"element\": \"CG\", \n",
    "        \"degree\": 1, \n",
    "        \"type\": \"scalar\",\n",
    "        \"time_scheme\":  \"explicit euler\",\n",
    "        },\n",
    "\n",
    "    \"u\": {\n",
    "        \"element\": \"CG\", \n",
    "        \"degree\": 2, \n",
    "        \"type\": \"vector\",\n",
    "        \"time_scheme\":  \"explicit euler\",\n",
    "        },\n",
    "\n",
    "    \"T\": {\n",
    "        \"element\": \"CG\", \n",
    "        \"degree\": 1, \n",
    "        \"type\": \"scalar\",\n",
    "        \"time_scheme\":  \"implicit euler\",\n",
    "        },\n",
    "}"
   ]
  },
  {
   "cell_type": "markdown",
   "metadata": {},
   "source": [
    "# Material Model\n",
    "\n",
    "Next, the thermophysical properties of the simulation are defined per phase.\n",
    "\n",
    "The solid, liquid and gaseous phase each need to be assigned a density (`rho`), thermal conductivity (`cp`) and thermal conductivity (`kappa`)."
   ]
  },
  {
   "cell_type": "code",
   "execution_count": null,
   "metadata": {},
   "outputs": [],
   "source": [
    "# This should be a dictionary of dictionaries\n",
    "material_model = {\n",
    "    \"solid\": {\n",
    "        \"rho\":      7800.0, # kg/m3\n",
    "        \"cp\":       502.4,  # J/(kg K)\n",
    "        \"kappa\":    14.4,   # W/(m K)\n",
    "    },\n",
    "    \"liquid\": {\n",
    "        \"rho\":      7800.0, # kg/m3\n",
    "        \"cp\":       502.4,  # J/(kg K)\n",
    "        \"kappa\":    14.4,   # W/(m K)\n",
    "    },\n",
    "    \"gas\": {\n",
    "        \"rho\":      7800.0, # kg/m3\n",
    "        \"cp\":       502.4,  # J/(kg K)\n",
    "        \"kappa\":    14.4,   # W/(m K)\n",
    "    },\n",
    "}"
   ]
  },
  {
   "cell_type": "markdown",
   "metadata": {},
   "source": [
    "# Time Domain\n",
    "\n",
    "The time span to be simulated is passed in the tuple `time_domain`. The time step is assumed to be constant, and in case of an explicit time discretisation must be chosen small enough such that the simulation remains stable.\n",
    "\n",
    "For Discontinuous Galerkin methods, a modified version of the Courant-Friedrichs-Lewy (CFL) condition holds\n",
    "$$\n",
    "\\Delta t \\leq \\frac{h}{u_{\\mathrm{max}}} \\frac{1}{2p+1},\n",
    "$$\n",
    "where $h$ is the (minimum) grid size, $u_\\mathrm{max}$ is the maximum flow velocity in the model or an estimate thereof and $p$ is the order of the Finite Element.\n",
    "\n",
    "Given a shielding gas flow velocity of 1 m/s, a discretisation size of $1e-6$ m and a polynomial order of $p=1$, the allowable time step becomes $\\Delta t \\leq 5e-7$."
   ]
  },
  {
   "cell_type": "code",
   "execution_count": null,
   "metadata": {},
   "outputs": [],
   "source": [
    "time_domain = (0.0, 2e-3)\n",
    "\n",
    "def compute_dt(h: float, u_max: float, p: int) -> float:\n",
    "    return 0.8 * h/u_max * 1/(2*p + 1)\n",
    "\n",
    "dt = compute_dt(h=1e-6, u_max=1.0, p=1)\n",
    "print(dt)"
   ]
  },
  {
   "cell_type": "markdown",
   "metadata": {},
   "source": [
    "# Top Level Data Structure\n",
    "\n",
    "All actual data is contained in the `PBFModel` class.\n",
    "\n",
    "Using the input data above, the constructor for this class can be called.\n",
    "Then, the problem class is instantiated, creating all necessary function spaces, functions and constants in order to solve the problem.\n",
    "A central element is the `FEData` subclass. It is designed to contain all Finite Element specific aspects of the model."
   ]
  },
  {
   "cell_type": "code",
   "execution_count": null,
   "metadata": {},
   "outputs": [],
   "source": [
    "#log.set_log_level(log.LogLevel.INFO)\n",
    "model = PBFModel(mesh_path=\"mesh3d.msh\",\n",
    "                 fe_config=fe_config,\n",
    "                 material_model=material_model,\n",
    "                 bc_markers=markers, \n",
    "                 timestep=dt,\n",
    "                 time_domain=time_domain,\n",
    "                 create_mixed=create_mixed_problem)"
   ]
  },
  {
   "cell_type": "markdown",
   "metadata": {},
   "source": [
    "After creation, calling the `setup()` method assigns the appropriate initial and boundary conditions that are defined within the class. They can be found in the files `InitialCondition.py` and `BoundaryCondition.py`."
   ]
  },
  {
   "cell_type": "code",
   "execution_count": null,
   "metadata": {},
   "outputs": [],
   "source": [
    "model.setup()"
   ]
  },
  {
   "cell_type": "markdown",
   "metadata": {},
   "source": [
    "The model can be executed using the `solve()` method.\n",
    "Then, the simulation is run over all time steps. Note that this can take a considerable amount of time."
   ]
  },
  {
   "cell_type": "code",
   "execution_count": null,
   "metadata": {},
   "outputs": [],
   "source": [
    "model.solve()"
   ]
  },
  {
   "cell_type": "code",
   "execution_count": null,
   "metadata": {},
   "outputs": [],
   "source": []
  }
 ],
 "metadata": {
  "kernelspec": {
   "display_name": "fenicsx-env",
   "language": "python",
   "name": "python3"
  },
  "language_info": {
   "codemirror_mode": {
    "name": "ipython",
    "version": 3
   },
   "file_extension": ".py",
   "mimetype": "text/x-python",
   "name": "python",
   "nbconvert_exporter": "python",
   "pygments_lexer": "ipython3",
   "version": "3.12.1"
  }
 },
 "nbformat": 4,
 "nbformat_minor": 2
}
